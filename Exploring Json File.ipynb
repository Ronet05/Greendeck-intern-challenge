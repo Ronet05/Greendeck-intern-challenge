{
 "cells": [
  {
   "cell_type": "code",
   "execution_count": 1,
   "metadata": {},
   "outputs": [],
   "source": [
    "import pandas as pd \n",
    "import json\n",
    "import numpy as np\n",
    "import csv\n",
    "import os"
   ]
  },
  {
   "cell_type": "code",
   "execution_count": 2,
   "metadata": {},
   "outputs": [],
   "source": [
    "product_json=[]\n",
    "with open('netaporter_gb_similar.json', encoding='utf-8') as fp:\n",
    "    for product in fp.readlines():\n",
    "        product_json.append(json.loads(product))"
   ]
  },
  {
   "cell_type": "code",
   "execution_count": 24,
   "metadata": {},
   "outputs": [
    {
     "data": {
      "text/plain": [
       "{'5da94f4e6d97010001f81d72': {'meta': {'total_results': 0,\n",
       "   'min_price': {'regular': 0.0, 'offer': 0.0, 'basket': 0.0},\n",
       "   'max_price': {'regular': 0.0, 'offer': 0.0, 'basket': 0.0},\n",
       "   'avg_price': {'regular': 0.0, 'offer': 0.0, 'basket': 0.0},\n",
       "   'avg_discount': 0.0},\n",
       "  'knn_items': []},\n",
       " '5da94f270ffeca000172b12e': {'meta': {'total_results': 0,\n",
       "   'min_price': {'regular': 0.0, 'offer': 0.0, 'basket': 0.0},\n",
       "   'max_price': {'regular': 0.0, 'offer': 0.0, 'basket': 0.0},\n",
       "   'avg_price': {'regular': 0.0, 'offer': 0.0, 'basket': 0.0},\n",
       "   'avg_discount': 0.0},\n",
       "  'knn_items': []},\n",
       " '5d0cc7b68a66a100014acdb0': {'meta': {'total_results': 0,\n",
       "   'min_price': {'regular': 0.0, 'offer': 0.0, 'basket': 0.0},\n",
       "   'max_price': {'regular': 0.0, 'offer': 0.0, 'basket': 0.0},\n",
       "   'avg_price': {'regular': 0.0, 'offer': 0.0, 'basket': 0.0},\n",
       "   'avg_discount': 0.0},\n",
       "  'knn_items': []},\n",
       " '5da94ef80ffeca000172b12c': {'meta': {'total_results': 0,\n",
       "   'min_price': {'regular': 0.0, 'offer': 0.0, 'basket': 0.0},\n",
       "   'max_price': {'regular': 0.0, 'offer': 0.0, 'basket': 0.0},\n",
       "   'avg_price': {'regular': 0.0, 'offer': 0.0, 'basket': 0.0},\n",
       "   'avg_discount': 0.0},\n",
       "  'knn_items': []},\n",
       " '5da94e940ffeca000172b12a': {'meta': {'total_results': 1,\n",
       "   'min_price': {'regular': 1210.0, 'offer': 605.0, 'basket': 605.0},\n",
       "   'max_price': {'regular': 1210.0, 'offer': 605.0, 'basket': 605.0},\n",
       "   'avg_price': {'regular': 1210.0, 'offer': 605.0, 'basket': 605.0},\n",
       "   'avg_discount': 0.5},\n",
       "  'knn_items': [{'_index': 'combined_products_vectorized_ranknet_3ir_nlp',\n",
       "    '_type': '_doc',\n",
       "    '_id': '5da9c9346504fb7723888244',\n",
       "    '_score': 1,\n",
       "    '_source': {'name': 'Technical jacket',\n",
       "     'url': 'https://www.mytheresa.com/en-gb/prada-jacke-mit-kapuze-918826.html',\n",
       "     'description_text': \"Debuted on the Milan runway, Prada's technical jacket perfectly encapsulates the label's SS18 sports-cool mood. Black, white and grey colour blocking provides statement detail, while the cropped length and oversized sleeves further a nonchalant, offbeat vibe. Plastic branded patches bring subtle recognition. Emulate the brand's styling and team yours with a black miniskirt.\",\n",
       "     'sku': 'P00299828',\n",
       "     'price': {'offer_price': {'value': 605.0, 'currency': 'GBP'},\n",
       "      'regular_price': {'value': 1210.0, 'currency': 'GBP'},\n",
       "      'basket_price': {'value': 605.0, 'currency': 'GBP'}},\n",
       "     'website_id': '5da94e940ffeca000172b12a',\n",
       "     'media': {'standard': [{'order': 1,\n",
       "        'url': 'http://img.mytheresa.com/1088/1088/66/jpeg/catalog/product/7b/P00299828.jpg'},\n",
       "       {'order': 2,\n",
       "        'url': 'http://img.mytheresa.com/1088/1088/66/jpeg/catalog/product/7b/P00299828_b1.jpg'},\n",
       "       {'order': 3,\n",
       "        'url': 'http://img.mytheresa.com/1088/1088/66/jpeg/catalog/product/7b/P00299828_b2.jpg'},\n",
       "       {'order': 4,\n",
       "        'url': 'http://img.mytheresa.com/1088/1088/66/jpeg/catalog/product/7b/P00299828_d3.jpg'},\n",
       "       {'order': 5,\n",
       "        'url': 'http://img.mytheresa.com/1088/1088/66/jpeg/catalog/product/7b/P00299828_rw.jpg'}]},\n",
       "     'brand': {'name': 'prada', 'sub_brand': ''},\n",
       "     'meta': {'breadcrumbs': {'1': 'sale', '2': 'clothing', '3': 'jackets'},\n",
       "      'reference': ''},\n",
       "     'stock': {'available': False},\n",
       "     'created_at': {'$date': '2019-10-19T00:00:00.000Z'},\n",
       "     'updated_at': {'$date': '2019-12-03T07:15:40.362Z'},\n",
       "     'spider': 'mytheresa_gb_pv',\n",
       "     'classification': {'l1': 'clothing',\n",
       "      'l2': 'outerwear',\n",
       "      'l3': 'coats and jackets',\n",
       "      'l4': 'casual jackets'},\n",
       "     'positioning': {'page': 303, 'rank': 64},\n",
       "     'lv_url': 'https://www.mytheresa.com/en-gb/sale/best-of-the-rest.html?p=303'}}]}}"
      ]
     },
     "execution_count": 24,
     "metadata": {},
     "output_type": "execute_result"
    }
   ],
   "source": [
    "product_json[1]['similar_products']['website_results']"
   ]
  },
  {
   "cell_type": "code",
   "execution_count": 9,
   "metadata": {},
   "outputs": [
    {
     "name": "stdout",
     "output_type": "stream",
     "text": [
      "4904\n"
     ]
    }
   ],
   "source": [
    "count=0\n",
    "for i in product_json:\n",
    "    if 'similar_products' in i:\n",
    "        count+=1\n",
    "print(count)"
   ]
  },
  {
   "cell_type": "code",
   "execution_count": 47,
   "metadata": {},
   "outputs": [
    {
     "data": {
      "text/plain": [
       "{'name': 'prada', 'sub_brand': ''}"
      ]
     },
     "execution_count": 47,
     "metadata": {},
     "output_type": "execute_result"
    }
   ],
   "source": [
    "product_json[1]['brand']"
   ]
  },
  {
   "cell_type": "code",
   "execution_count": 14,
   "metadata": {},
   "outputs": [
    {
     "name": "stdout",
     "output_type": "stream",
     "text": [
      "{'offer_price': {'currency': 'GBP', 'value': 1210.0}, 'regular_price': {'currency': 'GBP', 'value': 1210.0}, 'basket_price': {'value': 1210.0, 'currency': 'GBP'}}\n"
     ]
    }
   ],
   "source": [
    "for i in product_json[1].keys():\n",
    "    if(i=='price'):\n",
    "        print(product_json[1][i])"
   ]
  },
  {
   "cell_type": "code",
   "execution_count": 15,
   "metadata": {},
   "outputs": [
    {
     "data": {
      "text/plain": [
       "4904"
      ]
     },
     "execution_count": 15,
     "metadata": {},
     "output_type": "execute_result"
    }
   ],
   "source": [
    "len(product_json)"
   ]
  },
  {
   "cell_type": "code",
   "execution_count": 23,
   "metadata": {},
   "outputs": [
    {
     "name": "stdout",
     "output_type": "stream",
     "text": [
      "4904\n"
     ]
    }
   ],
   "source": [
    "count = 0\n",
    "for p in product_json:\n",
    "    desc = p\n",
    "    if 'regular_price' in desc['price'].keys():\n",
    "        count+=1\n",
    "print(count)"
   ]
  },
  {
   "cell_type": "code",
   "execution_count": 61,
   "metadata": {},
   "outputs": [],
   "source": [
    "def discount_plist(filters):\n",
    "    '''here, op1 can be 'discount','brand.name' and 'competition'. \n",
    "    op which is the operator can be '>','<','=='. \n",
    "    op2 depends on op1 whether it is a string or a float '''\n",
    "    \n",
    "    op1 = filters[0]\n",
    "    op = filters[1]\n",
    "    op2 = filters[2]\n",
    "    \n",
    "    #force the user to input int in form against discount in html\n",
    "    ids = []\n",
    "    if(op1 == 'discount'):\n",
    "        d_perc = op2\n",
    "        for p in product_json:\n",
    "            reg_price = p['price']['regular_price']['value']\n",
    "            off_price = p['price']['offer_price']['value']\n",
    "            disc = (reg_price - off_price)*100/reg_price\n",
    "            if(op==\"==\" and disc == op2):\n",
    "                ids.append(p['_id']['$oid'])\n",
    "            elif(op==\">\"and disc > op2):\n",
    "                ids.append(p['_id']['$oid'])\n",
    "            elif (op==\"<\"and disc < op2):\n",
    "                ids.append(p['_id']['$oid'])\n",
    "    \n",
    "    #force the user to input str in form against brand.name in html\n",
    "    elif(op1==\"brand.name\"):\n",
    "        for p in product_json:\n",
    "            brand_name = p['brand']['name']\n",
    "            if(brand_name == op2):\n",
    "                reg_price = p['price']['regular_price']['value']\n",
    "                off_price = p['price']['offer_price']['value']\n",
    "                if(off_price-reg_price<0):\n",
    "                    ids.append(p['_id']['$oid'])\n",
    "        \n",
    "        \n",
    "                \n",
    "    return ids\n",
    "    "
   ]
  },
  {
   "cell_type": "code",
   "execution_count": null,
   "metadata": {},
   "outputs": [],
   "source": [
    "def "
   ]
  },
  {
   "cell_type": "code",
   "execution_count": 63,
   "metadata": {},
   "outputs": [
    {
     "name": "stdout",
     "output_type": "stream",
     "text": [
      "80\n"
     ]
    }
   ],
   "source": [
    "filters = ['brand.name', \"==\", 'balenciaga']\n",
    "print(len(discount_plist(filters)))"
   ]
  },
  {
   "cell_type": "code",
   "execution_count": 58,
   "metadata": {},
   "outputs": [
    {
     "name": "stdout",
     "output_type": "stream",
     "text": [
      "['16arlington' '3.1 phillip lim'\n",
      " 'a.p.c. atelier de production et de création' 'a.w.a.k.e. mode'\n",
      " 'acne studios' 'adam lippes' 'adam selman sport'\n",
      " 'adidas by stella mccartney' 'adidas originals'\n",
      " 'adidas originals by alexander wang' 'adriana degreas' 'aesop' 'aeydē'\n",
      " 'agent provocateur' 'agolde' 'akris' 'alanui' 'alaïa' 'albus lumen'\n",
      " 'alessandra rich' 'alex mill' 'alex perry' 'alexachung'\n",
      " 'alexander mcqueen' 'alexander wang' 'alexanderwang.t' 'alexandre birman'\n",
      " 'alexandre vauthier' 'alice + olivia' 'alice mccall' 'altuzarra'\n",
      " 'ambush®' 'amina muaddi' 'amiri' 'ancient greek sandals' 'andrew gn'\n",
      " 'anine bing' 'anissa kermiche' 'anita ko' 'anjuna' 'ann demeulemeester'\n",
      " 'apiece apart' 'apl athletic propulsion labs' 'aquazzura' 'area' 'asai'\n",
      " 'asceno' 'ashish' 'atm anthony thomas melillo' 'atp atelier' 'attico'\n",
      " 'balenciaga' 'balmain' 'barbour' 'bella freud' 'bernadette'\n",
      " 'bienen-davis' 'blazé milano' 'bogner' 'borgo de nor' 'bottega veneta'\n",
      " 'brock collection' 'brumal' 'brunello cucinelli' 'burberry' 'by far'\n",
      " 'camilla' 'canada goose' 'caravana' 'carolina bucci' 'carolina herrera'\n",
      " 'carrie forbes' 'castañer' 'cecilie bahnsen' 'cefinn' 'chantelle'\n",
      " 'charlotte chesnais' 'charo ruiz' 'chloé' 'christian louboutin'\n",
      " 'christopher kane' \"church's\" 'citizens of humanity' 'co' 'commando'\n",
      " 'comme des garçons comme des garçons' 'comme des garçons girl'\n",
      " 'common projects' 'costarellos' 'courreges' 'cult gaia' 'cushnie'\n",
      " 'david koma' 'de la vali' 'derek lam' 'diane von furstenberg' 'dion lee'\n",
      " 'dodo bar or' 'dolce & gabbana' 'eberjey' 'ellery' 'emilia wickstead'\n",
      " 'emme parsons' 'equipment' 'erdem' 'eres' 'etro' 'eve denim'\n",
      " 'evi grintela' 'f.r.s for restless sleepers' 'faithfull the brand'\n",
      " 'falke ergonomic sport system' 'fendi' 'figue' 'fisch' 'forte_forte'\n",
      " 'foundrae' 'frame' 'francesco russo' 'fusalp' 'gabriela hearst' 'galvan'\n",
      " 'ganni' 'georgia alice' 'giambattista valli' 'gianvito rossi'\n",
      " 'giuliva heritage collection' 'giuseppe zanotti' 'givenchy' 'gmbh'\n",
      " 'golden goose' 'goldsign' 'grlfrnd' 'gucci' 'haider ackermann' 'halpern'\n",
      " 'haney' 'hanro' 'heidi klein' 'helmut lang' 'house of holland' 'hunza g'\n",
      " 'hvn' 'innika choo' 'iro' 'isabel marant' 'isabel marant étoile'\n",
      " 'iwc schaffhausen' 'j brand' 'jacquemus' 'jade swim' 'james perse'\n",
      " 'jason wu' 'jason wu collection' 'jennifer behr' 'jennifer chamandi'\n",
      " 'jessie western' 'jimmy choo' 'johanna ortiz' 'joseph' 'junya watanabe'\n",
      " 'jw anderson' 'kalita' 'kassl editions' 'kenzo' 'khaite' 'ksubi'\n",
      " 'kwaidan editions' \"l'agence\" 'la mer' 'la perla' 'le 17 septembre'\n",
      " 'le monde beryl' 'lee mathews' 'leigh miller' 'lemlem' 'les rêveries'\n",
      " 'leslie amon' 'lisa marie fernandez' 'little liffner' 'loeffler randall'\n",
      " 'loewe' 'loro piana' 'loveshackfancy' 'low classic' 'mackintosh'\n",
      " 'madeleine thompson' 'magda butrym' 'maggie marilyn' 'maison margiela'\n",
      " 'maison michel' 'malone souliers' 'mansur gavriel' 'mara hoffman'\n",
      " 'marc jacobs' 'marchesa' 'marchesa notte' 'mark cross' 'marni'\n",
      " \"marques' almeida\" 'mary katrantzou' 'marysia' 'maticevski' 'matteau'\n",
      " 'matthew adams dolan' 'matériel' 'max mara' 'mcq alexander mcqueen'\n",
      " 'medea' 'melissa odabash' 'mercedes castillo' 'mes demoiselles'\n",
      " 'michael kors collection' 'michael michael kors' 'missoni' 'miu miu'\n",
      " 'mm6 maison margiela' 'molly goddard' 'moncler' 'moncler genius'\n",
      " 'monica vinader' 'monse' 'moon boot' 'morgan lane' 'moschino' 'mother'\n",
      " 'mother of pearl' 'mugler' 'myla' 'nagnata' 'nanushka' 'needle & thread'\n",
      " 'neous' 'nicholas' 'nicholas kirkwood' 'nike' 'nili lotan'\n",
      " 'ninety percent' 'noir kei ninomiya' 'norma kamali' 'off-white'\n",
      " 'olivia von halle' 'omorovicza' 'oscar de la renta' 'p.e nation'\n",
      " 'paco rabanne' 'palm angels' 'palmer//harding' 'patbo' 'paul & joe'\n",
      " 'persée' 'petar petrov' 'peter pilotto' 'philosophy di lorenzo serafini'\n",
      " 'pippa holt' 'pomellato' 'prada' 'preen by thornton bregazzi'\n",
      " 'preen line' 'proenza schouler' 'pushbutton' 'r13' 'racil' 'rag & bone'\n",
      " 'raquel diniz' 'rasario' 'ratio et motus' 're/done' 'rebecca de ravenel'\n",
      " 'rebecca vallance' 'redemption' 'redvalentino'\n",
      " 'reebok x victoria beckham' 'reformation' 'rejina pyo' 'rené caovilla'\n",
      " 'repossi' 'retrofête' 'rhode' 'rick owens' 'rixo' 'roger vivier' 'rokh'\n",
      " 'roksanda' 'roland mouret' 'rosantica' 'rosetta getty' 'rosie assoulin'\n",
      " 'rotate birger christensen' 'rta' 'runway marc jacobs' 'rupert sanderson'\n",
      " 'sacai' 'saint laurent' 'saks potts' 'saloni' 'salvatore ferragamo' 'sea'\n",
      " 'see by chloé' 'self-portrait' 'seren' 'sies marjan' 'silvia tcherassi'\n",
      " 'simon miller' 'simone rocha' 'skin' 'slvrlake' 'solace london'\n",
      " 'solid & striped' 'sophia webster' 'sophie bille brahe' 'sorel' 'spanx'\n",
      " 'spinelli kilcollin' 'sprwmn' 'stand studio' 'staud' 'stella mccartney'\n",
      " 'stine goya' 'stuart weitzman' 'studio amelia' 'tabitha simmons'\n",
      " 'talbot runhof' 'temperley london' 'templa' 'the elder statesman'\n",
      " 'the row' 'the upside' \"the vampire's wife\" 'theory' 'thom browne'\n",
      " 'three graces london' 'tibi' \"tod's\" 'tom ford' 'tory burch' 'totême'\n",
      " 'ulla johnson' 'unravel project' 'valentino' 'valet' 'valextra'\n",
      " 'vanessa bruno' 'veja' 'veronica beard' 'versace' 'vetements'\n",
      " 'victoria beckham' 'victoria, victoria beckham' 'vince'\n",
      " 'vivienne westwood' 'vix' 'wald berlin' 'wales bonner' 'wandler'\n",
      " 'we11done' 'wolford' 'yuzefi' 'zimmermann']\n"
     ]
    }
   ],
   "source": [
    "br=[]\n",
    "for p in product_json:\n",
    "    brand = p['brand']['name']\n",
    "    br.append(brand)\n",
    "print(np.unique(br))"
   ]
  },
  {
   "cell_type": "code",
   "execution_count": null,
   "metadata": {},
   "outputs": [],
   "source": []
  }
 ],
 "metadata": {
  "kernelspec": {
   "display_name": "Python 3",
   "language": "python",
   "name": "python3"
  },
  "language_info": {
   "codemirror_mode": {
    "name": "ipython",
    "version": 3
   },
   "file_extension": ".py",
   "mimetype": "text/x-python",
   "name": "python",
   "nbconvert_exporter": "python",
   "pygments_lexer": "ipython3",
   "version": "3.7.6"
  }
 },
 "nbformat": 4,
 "nbformat_minor": 4
}